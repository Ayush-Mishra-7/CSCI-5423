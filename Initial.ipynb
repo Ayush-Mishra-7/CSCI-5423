{
 "cells": [
  {
   "cell_type": "code",
   "execution_count": 1,
   "id": "c05bdf5c-3cc5-4d76-892b-ea1404f7492d",
   "metadata": {},
   "outputs": [],
   "source": [
    "import h5py\n",
    "import pandas as pd\n",
    "import networkx as nx"
   ]
  },
  {
   "cell_type": "code",
   "execution_count": 2,
   "id": "8c7a7876-ab2a-4183-9daf-f280f44f4665",
   "metadata": {},
   "outputs": [
    {
     "name": "stdout",
     "output_type": "stream",
     "text": [
      "   clusterID  clusterArea  clusterVolume  clusterTime  clusterSpeed\n",
      "0        0.0       0.0172       0.001712         0.26      0.650433\n",
      "1        1.0       0.1252       0.026680         0.76      0.725199\n",
      "2        2.0       0.0068       0.000704         0.16      0.648554\n",
      "3        3.0       0.0100       0.000880         0.16      0.512835\n",
      "4        4.0       0.0560       0.002384         0.14      2.548089\n"
     ]
    }
   ],
   "source": [
    "metadata = pd.read_csv('DataSet3/data_ALL_clusters.csv')\n",
    "print(metadata.head())"
   ]
  },
  {
   "cell_type": "code",
   "execution_count": 11,
   "id": "42f8cbb1-1384-451f-a6b8-bdde5322120e",
   "metadata": {},
   "outputs": [
    {
     "name": "stdout",
     "output_type": "stream",
     "text": [
      "['area', 'array_speed', 'file', 'flag', 'shape', 'speed', 'time', 'volume']\n",
      "['_MutableMapping__marker', '__abstractmethods__', '__bool__', '__class__', '__class_getitem__', '__contains__', '__delattr__', '__delitem__', '__dict__', '__dir__', '__doc__', '__enter__', '__eq__', '__exit__', '__firstlineno__', '__format__', '__ge__', '__getattribute__', '__getitem__', '__getnewargs__', '__getstate__', '__gt__', '__hash__', '__init__', '__init_subclass__', '__iter__', '__le__', '__len__', '__lt__', '__module__', '__ne__', '__new__', '__nonzero__', '__reduce__', '__reduce_ex__', '__repr__', '__reversed__', '__setattr__', '__setitem__', '__sizeof__', '__slots__', '__static_attributes__', '__str__', '__subclasshook__', '__weakref__', '_abc_impl', '_d', '_e', '_gcpl_crt_order', '_id', '_in_memory_file_counter', '_ipython_key_completions_', '_lapl', '_lcpl', '_libver', 'attrs', 'build_virtual_dataset', 'clear', 'close', 'copy', 'create_dataset', 'create_dataset_like', 'create_group', 'create_virtual_dataset', 'driver', 'file', 'filename', 'flush', 'get', 'id', 'in_memory', 'items', 'keys', 'libver', 'meta_block_size', 'mode', 'move', 'name', 'parent', 'pop', 'popitem', 'ref', 'regionref', 'require_dataset', 'require_group', 'setdefault', 'swmr_mode', 'update', 'userblock_size', 'values', 'visit', 'visit_links', 'visititems', 'visititems_links']\n"
     ]
    },
    {
     "ename": "TypeError",
     "evalue": "'h5py.h5f.FileID' object is not callable",
     "output_type": "error",
     "traceback": [
      "\u001b[31m---------------------------------------------------------------------------\u001b[39m",
      "\u001b[31mTypeError\u001b[39m                                 Traceback (most recent call last)",
      "\u001b[36mCell\u001b[39m\u001b[36m \u001b[39m\u001b[32mIn[11]\u001b[39m\u001b[32m, line 6\u001b[39m\n\u001b[32m      2\u001b[39m \u001b[38;5;28mprint\u001b[39m(\u001b[38;5;28mlist\u001b[39m(f.keys()))  \u001b[38;5;66;03m# Inspect datasets within\u001b[39;00m\n\u001b[32m      4\u001b[39m \u001b[38;5;28mprint\u001b[39m(\u001b[38;5;28mdir\u001b[39m(f))\n\u001b[32m----> \u001b[39m\u001b[32m6\u001b[39m \u001b[38;5;28mprint\u001b[39m(\u001b[43mf\u001b[49m\u001b[43m.\u001b[49m\u001b[43mid\u001b[49m\u001b[43m(\u001b[49m\u001b[43m)\u001b[49m)\n",
      "\u001b[31mTypeError\u001b[39m: 'h5py.h5f.FileID' object is not callable"
     ]
    }
   ],
   "source": [
    "with h5py.File('DataSet3/data_clusters_day_180406.h5', 'r') as f:\n",
    "    print(list(f.keys()))  # Inspect datasets within\n",
    "\n",
    "    print(dir(f))\n",
    "\n"
   ]
  },
  {
   "cell_type": "code",
   "execution_count": 13,
   "id": "220b29dc-00ed-42d3-8e9a-08ee9fdc184b",
   "metadata": {},
   "outputs": [
    {
     "data": {
      "image/png": "[encoded data removed]",
      "text/plain": [
       "<Figure size 640x480 with 1 Axes>"
      ]
     },
     "metadata": {},
     "output_type": "display_data"
    }
   ],
   "source": [
    "\n",
    "with h5py.File('DataSet3/data_clusters_day_180406.h5', 'r') as f:\n",
    "    area = f['area'][:]\n",
    "    speed = f['speed'][:]\n",
    "    time = f['time'][:]\n",
    "\n",
    "# Create a graph\n",
    "G = nx.Graph()\n",
    "\n",
    "# Add nodes with attributes\n",
    "for i in range(len(area)):\n",
    "    G.add_node(i, area=area[i], speed=speed[i], time=time[i])\n",
    "\n",
    "# Add edges based on proximity (Example: speed similarity)\n",
    "for i in range(len(area)):\n",
    "    for j in range(i + 1, len(area)):  # Avoid duplicating edges\n",
    "        if abs(speed[i] - speed[j]) < 0.5:  # Arbitrary threshold\n",
    "            G.add_edge(i, j)\n",
    "\n",
    "# Visualize the graph\n",
    "nx.draw(G, with_labels=True)"
   ]
  },
  {
   "cell_type": "code",
   "execution_count": null,
   "id": "121323aa-6024-496d-994f-0b13da7bac82",
   "metadata": {},
   "outputs": [],
   "source": []
  }
 ],
 "metadata": {
  "kernelspec": {
   "display_name": "Python 3 (ipykernel)",
   "language": "python",
   "name": "python3"
  },
  "language_info": {
   "codemirror_mode": {
    "name": "ipython",
    "version": 3
   },
   "file_extension": ".py",
   "mimetype": "text/x-python",
   "name": "python",
   "nbconvert_exporter": "python",
   "pygments_lexer": "ipython3",
   "version": "3.13.1"
  }
 },
 "nbformat": 4,
 "nbformat_minor": 5
}
